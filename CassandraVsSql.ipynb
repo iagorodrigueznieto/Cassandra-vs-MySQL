{
 "cells": [
  {
   "cell_type": "markdown",
   "metadata": {},
   "source": [
    "# Creación dataset"
   ]
  },
  {
   "cell_type": "code",
   "execution_count": 8,
   "metadata": {},
   "outputs": [
    {
     "name": "stdout",
     "output_type": "stream",
     "text": [
      "Datos generados y guardados en jugadores.json\n"
     ]
    }
   ],
   "source": [
    "import json\n",
    "from faker import Faker\n",
    "import random\n",
    "import sys\n",
    "\n",
    "# Inicializar Faker\n",
    "fake = Faker()\n",
    "\n",
    "num_inserciones = 2000000\n",
    "\n",
    "# Definir posiciones y equipos aleatorios\n",
    "posiciones = ['Delantero', 'Centrocampista', 'Defensa', 'Portero']\n",
    "equipos = ['Equipo A', 'Equipo B', 'Equipo C', 'Equipo D']\n",
    "\n",
    "# Crear una lista para almacenar los datos generados\n",
    "datos = []\n",
    "\n",
    "# Generar datos aleatorios\n",
    "for _ in range(num_inserciones):\n",
    "    jugador = {\n",
    "        \"nombre\": fake.name(),\n",
    "        \"posicion\": random.choice(posiciones),\n",
    "        \"equipo\": random.choice(equipos),\n",
    "        \"fecha_nacimiento\": fake.date_of_birth(minimum_age=18, maximum_age=40).isoformat()\n",
    "    }\n",
    "    datos.append(jugador)\n",
    "\n",
    "# Guardar los datos en un archivo JSON\n",
    "with open('jugadores.json', 'w') as file:\n",
    "    json.dump(datos, file, indent=4)\n",
    "\n",
    "print(f\"Datos generados y guardados en jugadores.json\")\n"
   ]
  },
  {
   "cell_type": "markdown",
   "metadata": {},
   "source": [
    "# Cargar dataset Mysql"
   ]
  },
  {
   "cell_type": "code",
   "execution_count": 9,
   "metadata": {},
   "outputs": [
    {
     "name": "stdout",
     "output_type": "stream",
     "text": [
      "Conexión exitosa a la base de datos MySQL\n",
      "Datos insertados correctamente en la tabla jugadores\n",
      "Conexión MySQL cerrada\n"
     ]
    }
   ],
   "source": [
    "import mysql.connector\n",
    "from mysql.connector import Error\n",
    "import json\n",
    "import sys\n",
    "\n",
    "# Cargar los datos generados desde el archivo JSON\n",
    "with open('jugadores.json', 'r') as file:\n",
    "    datos = json.load(file)\n",
    "\n",
    "# Conectar a la base de datos MySQL e insertar datos\n",
    "try:\n",
    "    connection = mysql.connector.connect(\n",
    "        host='127.0.0.1',\n",
    "        port=3306,\n",
    "        user='root',\n",
    "        password='root',\n",
    "        database='ejercicio'\n",
    "    )\n",
    "\n",
    "    if connection.is_connected():\n",
    "        print(\"Conexión exitosa a la base de datos MySQL\")\n",
    "\n",
    "        # Crear un cursor para ejecutar consultas SQL\n",
    "        cursor = connection.cursor()\n",
    "\n",
    "        # Insertar datos en la tabla jugadores\n",
    "        for jugador in datos:\n",
    "            query = \"\"\"\n",
    "            INSERT INTO jugadores (nombre, posicion, equipo, fecha_nacimiento)\n",
    "            VALUES (%s, %s, %s, %s);\n",
    "            \"\"\"\n",
    "            values = (jugador['nombre'], jugador['posicion'], jugador['equipo'], jugador['fecha_nacimiento'])\n",
    "            cursor.execute(query, values)\n",
    "\n",
    "        # Confirmar la inserción de los datos\n",
    "        connection.commit()\n",
    "        print(f\"Datos insertados correctamente en la tabla jugadores\")\n",
    "\n",
    "except Error as e:\n",
    "    print(\"Error al conectar a MySQL:\", e)\n",
    "\n",
    "finally:\n",
    "    # Cerrar la conexión\n",
    "    if connection.is_connected():\n",
    "        cursor.close()\n",
    "        connection.close()\n",
    "        print(\"Conexión MySQL cerrada\")\n",
    "\n"
   ]
  },
  {
   "cell_type": "markdown",
   "metadata": {},
   "source": [
    "# Cargar dataset Cassandra"
   ]
  },
  {
   "cell_type": "code",
   "execution_count": 10,
   "metadata": {},
   "outputs": [
    {
     "name": "stdout",
     "output_type": "stream",
     "text": [
      "Datos insertados correctamente.\n"
     ]
    }
   ],
   "source": [
    "import json\n",
    "import os\n",
    "from cassandra.cluster import Cluster\n",
    "from cassandra.auth import PlainTextAuthProvider\n",
    "from uuid import uuid4\n",
    "from datetime import datetime\n",
    "\n",
    "# Configuración de conexión con Cassandra\n",
    "def conectar_cassandra():\n",
    "    # Aquí se asume que tienes acceso a Cassandra de manera local o en la red\n",
    "    cluster = Cluster(['localhost'])  # Cambia esto si tu Cassandra está en otro servidor\n",
    "    session = cluster.connect()\n",
    "    session.set_keyspace('ejercicio')\n",
    "    return session\n",
    "\n",
    "# Función para insertar un jugador en la base de datos\n",
    "def insertar_jugador(session, jugador):\n",
    "    # Insertar los datos en la tabla 'jugadores'\n",
    "    query = \"\"\"\n",
    "    INSERT INTO jugadores (id, nombre, posicion, equipo, fecha_nacimiento)\n",
    "    VALUES (%s, %s, %s, %s, %s)\n",
    "    \"\"\"\n",
    "    # Convertir la fecha de nacimiento de string a un objeto de fecha\n",
    "    fecha_nacimiento = datetime.strptime(jugador['fecha_nacimiento'], '%Y-%m-%d').date()\n",
    "    \n",
    "    # Ejecutar la consulta con los valores\n",
    "    session.execute(query, (uuid4(), jugador['nombre'], jugador['posicion'], jugador['equipo'], fecha_nacimiento))\n",
    "\n",
    "# Función para leer el archivo JSON y procesar los jugadores\n",
    "def procesar_json(json_data):\n",
    "    session = conectar_cassandra()\n",
    "\n",
    "    for jugador in json_data:\n",
    "        insertar_jugador(session, jugador)\n",
    "\n",
    "    print(\"Datos insertados correctamente.\")\n",
    "\n",
    "if __name__ == \"__main__\":\n",
    "    json_path = ('jugadores.json')  # Ruta al archivo\n",
    "\n",
    "    # Cargar el archivo JSON con la información de los jugadores\n",
    "    with open(json_path, 'r') as f:\n",
    "        jugadores_json = json.load(f)\n",
    "\n",
    "    # Procesar e insertar los jugadores\n",
    "    procesar_json(jugadores_json)\n"
   ]
  },
  {
   "cell_type": "markdown",
   "metadata": {},
   "source": [
    "# Consulta de datos en Mysql"
   ]
  },
  {
   "cell_type": "code",
   "execution_count": 10,
   "metadata": {},
   "outputs": [
    {
     "name": "stdout",
     "output_type": "stream",
     "text": [
      "Conexión exitosa a la base de datos MySQL\n",
      "Tiempo de ejecución de la consulta: 8.0027 segundos\n",
      "Datos en la tabla jugadores:\n",
      "(1, 'Samantha Foster', 'Defensa', 'Equipo A', datetime.date(1987, 8, 14))\n",
      "(2, 'Lance Beard', 'Defensa', 'Equipo D', datetime.date(1997, 12, 15))\n",
      "(3, 'Robert Mcclain', 'Defensa', 'Equipo B', datetime.date(1998, 9, 16))\n",
      "(4, 'Elizabeth Brooks', 'Portero', 'Equipo C', datetime.date(1991, 2, 26))\n",
      "(5, 'Michael Washington', 'Defensa', 'Equipo C', datetime.date(2001, 11, 9))\n",
      "Conexión MySQL cerrada\n"
     ]
    }
   ],
   "source": [
    "import mysql.connector\n",
    "from mysql.connector import Error\n",
    "import time\n",
    "\n",
    "try:\n",
    "    # Establece la conexión con la base de datos\n",
    "    connection = mysql.connector.connect(\n",
    "        host='127.0.0.1',     # O usa 'localhost'\n",
    "        port=3306,            # Puerto expuesto por Docker\n",
    "        user='root',          # Usuario de MySQL (cambia si usaste otro)\n",
    "        password='root',      # Contraseña del usuario (ajusta a la tuya)\n",
    "        database='ejercicio'  # Nombre de la base de datos\n",
    "    )\n",
    "    \n",
    "    if connection.is_connected():\n",
    "        print(\"Conexión exitosa a la base de datos MySQL\")\n",
    "\n",
    "        # Crear un cursor para ejecutar consultas SQL\n",
    "        cursor = connection.cursor()\n",
    "        \n",
    "        # Medir el tiempo de ejecución de la consulta\n",
    "        start_time = time.time()  # Iniciar el temporizador\n",
    "        \n",
    "        # Ejemplo de consulta: Selecciona todos los jugadores\n",
    "        cursor.execute(\"SELECT * FROM jugadores;\")\n",
    "        rows = cursor.fetchall()\n",
    "\n",
    "        # Calcular el tiempo de ejecución\n",
    "        elapsed_time = time.time() - start_time\n",
    "        print(f\"Tiempo de ejecución de la consulta: {elapsed_time:.4f} segundos\")\n",
    "\n",
    "        print(\"Datos en la tabla jugadores:\")\n",
    "        for i in range(5):\n",
    "            print(rows[i])\n",
    "            \n",
    "        \n",
    "\n",
    "except Error as e:\n",
    "    print(\"Error al conectar a MySQL:\", e)\n",
    "\n",
    "finally:\n",
    "    # Cierra la conexión\n",
    "    if connection.is_connected():\n",
    "        cursor.close()\n",
    "        connection.close()\n",
    "        print(\"Conexión MySQL cerrada\")\n"
   ]
  },
  {
   "cell_type": "markdown",
   "metadata": {},
   "source": [
    "# Consulta de datos en Cassandra"
   ]
  },
  {
   "cell_type": "code",
   "execution_count": null,
   "metadata": {},
   "outputs": [
    {
     "name": "stdout",
     "output_type": "stream",
     "text": [
      "Consultando todos los jugadores:\n",
      "Tiempo de ejecución de la consulta (todos los jugadores): 0.0731 segundos\n",
      "ID: e76aea66-dd8a-4927-a6aa-dbe25bf72b1b, Nombre: Brenda Guzman, Posición: Centrocampista, Equipo: Equipo C, Fecha Nacimiento: 1999-06-28\n",
      "ID: 82f3bb27-4237-45ec-ae84-d9721cfddb23, Nombre: Tina Allen, Posición: Centrocampista, Equipo: Equipo B, Fecha Nacimiento: 1999-09-16\n",
      "ID: bffdb637-c00a-4302-89be-659c41a13bf5, Nombre: Zachary Shelton, Posición: Portero, Equipo: Equipo C, Fecha Nacimiento: 2006-08-09\n",
      "ID: 56d9ff75-20fe-460f-be5a-d61420356d8c, Nombre: Christine Hernandez, Posición: Defensa, Equipo: Equipo B, Fecha Nacimiento: 1983-11-25\n",
      "ID: 39637ffd-3143-4b42-8808-61ac97863ccf, Nombre: Joanne Moore, Posición: Portero, Equipo: Equipo C, Fecha Nacimiento: 1989-06-24\n",
      "ID: 65945c30-3e49-4b8b-a04e-2c871a7d9d01, Nombre: Alyssa Hogan, Posición: Portero, Equipo: Equipo B, Fecha Nacimiento: 1995-08-12\n"
     ]
    }
   ],
   "source": [
    "import time\n",
    "from cassandra.cluster import Cluster\n",
    "from cassandra.auth import PlainTextAuthProvider\n",
    "from uuid import UUID\n",
    "\n",
    "# Función para conectar a Cassandra\n",
    "def conectar_cassandra():\n",
    "    cluster = Cluster(['localhost'])  # Cambia esto si tu Cassandra está en otro servidor\n",
    "    session = cluster.connect()\n",
    "    session.set_keyspace('ejercicio')\n",
    "    return session\n",
    "\n",
    "# Función para consultar todos los jugadores\n",
    "def consultar_jugadores(session):\n",
    "    start_time = time.time()  # Iniciar el temporizador\n",
    "    \n",
    "    # Consulta para obtener todos los jugadores\n",
    "    query = \"SELECT * FROM jugadores ALLOW FILTERING\"\n",
    "    rows = session.execute(query)\n",
    "\n",
    "    # Calcular el tiempo de ejecución\n",
    "    elapsed_time = time.time() - start_time\n",
    "    print(f\"Tiempo de ejecución de la consulta (todos los jugadores): {elapsed_time:.4f} segundos\")\n",
    "\n",
    "    # Imprimir los resultados\n",
    "    for i, row in enumerate(rows):\n",
    "        if i <= 5:  # Obtén las primeras 5 filas\n",
    "            print(f\"ID: {row.id}, Nombre: {row.nombre}, Posición: {row.posicion}, Equipo: {row.equipo}, Fecha Nacimiento: {row.fecha_nacimiento}\")\n",
    "        else:\n",
    "            break\n",
    "\n",
    "# Función para consultar un jugador específico por nombre\n",
    "def consultar_jugador_por_nombre(session, nombre):\n",
    "    start_time = time.time()  # Iniciar el temporizador\n",
    "    \n",
    "    query = \"SELECT * FROM jugadores WHERE nombre = %s ALLOW FILTERING\"\n",
    "    rows = session.execute(query, (nombre,))\n",
    "\n",
    "    # Calcular el tiempo de ejecución\n",
    "    elapsed_time = time.time() - start_time\n",
    "    print(f\"Tiempo de ejecución de la consulta (jugador {nombre}): {elapsed_time:.4f} segundos\")\n",
    "\n",
    "    for row in rows:\n",
    "        print(f\"ID: {row.id}, Nombre: {row.nombre}, Posición: {row.posicion}, Equipo: {row.equipo}, Fecha Nacimiento: {row.fecha_nacimiento}\")\n",
    "\n",
    "# Función principal\n",
    "if __name__ == \"__main__\":\n",
    "    # Conectar a Cassandra\n",
    "    session = conectar_cassandra()\n",
    "\n",
    "    # Consultar todos los jugadores\n",
    "    print(\"Consultando todos los jugadores:\")\n",
    "    consultar_jugadores(session)\n",
    "\n"
   ]
  },
  {
   "cell_type": "markdown",
   "metadata": {},
   "source": [
    "# Conclusión"
   ]
  },
  {
   "cell_type": "markdown",
   "metadata": {},
   "source": [
    "Cassandra parece más rápido para hacer consultas. El resultado esperado era que MySql sería más rápido ya que la consulta realizada fue para obtener todas las filas y Cassandra en lo que se especializa es en las columnas.\n",
    "\n",
    "Investigando un poco parece que los motivos son:\n",
    "\n",
    "Optimización para consultas masivas: Cassandra está diseñada para escalar y realizar operaciones rápidas de lectura incluso con grandes volúmenes de datos.\n",
    "\n",
    "Lectura eficiente desde memoria y almacenamiento secuencial: Cassandra maneja los datos en memoria (memtable) y en disco (SSTables), lo que hace que las lecturas sean mucho más rápidas.\n",
    "\n",
    "Menor overhead: Cassandra tiene menos overhead en comparación con MySQL, que realiza más comprobaciones y operaciones internas.\n",
    "\n",
    "Escalabilidad: Aunque estás usando un solo nodo en Cassandra, la base de datos está diseñada para operar eficientemente incluso en un solo nodo."
   ]
  }
 ],
 "metadata": {
  "kernelspec": {
   "display_name": "cassandra_env",
   "language": "python",
   "name": "python3"
  },
  "language_info": {
   "codemirror_mode": {
    "name": "ipython",
    "version": 3
   },
   "file_extension": ".py",
   "mimetype": "text/x-python",
   "name": "python",
   "nbconvert_exporter": "python",
   "pygments_lexer": "ipython3",
   "version": "3.11.10"
  }
 },
 "nbformat": 4,
 "nbformat_minor": 2
}
